{
 "cells": [
  {
   "cell_type": "markdown",
   "metadata": {},
   "source": [
    "# Stratified Split"
   ]
  },
  {
   "cell_type": "code",
   "execution_count": 1,
   "metadata": {
    "collapsed": true
   },
   "outputs": [],
   "source": [
    "from sklearn.model_selection import StratifiedShuffleSplit, StratifiedKFold\n",
    "from sklearn import datasets"
   ]
  },
  {
   "cell_type": "code",
   "execution_count": 15,
   "metadata": {},
   "outputs": [
    {
     "name": "stdout",
     "output_type": "stream",
     "text": [
      "KFold\n",
      "TRAIN: [ 2  3  4  5  7  8 10 11] TEST: [0 1 6 9]\n",
      "TRAIN: [ 0  1  3  4  6  9 10 11] TEST: [2 5 7 8]\n",
      "TRAIN: [0 1 2 5 6 7 8 9] TEST: [ 3  4 10 11]\n",
      "\n",
      "Shuffle Split\n",
      "TRAIN: [0 1 6 2 9 8 5 7] TEST: [10 11  3  4]\n",
      "TRAIN: [ 6  5  2  8 11  0 10  4] TEST: [1 3 7 9]\n",
      "TRAIN: [11  4  9 10  3  1  0  7] TEST: [8 6 2 5]\n"
     ]
    }
   ],
   "source": [
    "splits = 3\n",
    "\n",
    "tx = range(12)\n",
    "ty = [0] * 6 + [1] * 6\n",
    "\n",
    "print(\"KFold\")\n",
    "kfold = StratifiedKFold(n_splits=splits, shuffle=True, random_state=42)\n",
    "for train_index, test_index in kfold.split(tx, ty):\n",
    "    print(\"TRAIN:\", train_index, \"TEST:\", test_index)\n",
    "\n",
    "print(\"\\nShuffle Split\")\n",
    "shufflesplit = StratifiedShuffleSplit(n_splits=splits, test_size=1/3, random_state=42)\n",
    "for train_index, test_index in shufflesplit.split(tx, ty):\n",
    "    print(\"TRAIN:\", train_index, \"TEST:\", test_index)"
   ]
  },
  {
   "cell_type": "code",
   "execution_count": null,
   "metadata": {
    "collapsed": true
   },
   "outputs": [],
   "source": []
  }
 ],
 "metadata": {
  "kernelspec": {
   "display_name": "Python 3",
   "language": "python",
   "name": "python3"
  },
  "language_info": {
   "codemirror_mode": {
    "name": "ipython",
    "version": 3
   },
   "file_extension": ".py",
   "mimetype": "text/x-python",
   "name": "python",
   "nbconvert_exporter": "python",
   "pygments_lexer": "ipython3",
   "version": "3.6.0"
  }
 },
 "nbformat": 4,
 "nbformat_minor": 2
}
