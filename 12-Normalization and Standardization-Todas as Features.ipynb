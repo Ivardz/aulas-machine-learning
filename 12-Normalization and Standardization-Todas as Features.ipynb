{
 "cells": [
  {
   "cell_type": "markdown",
   "metadata": {},
   "source": [
    "# Normalization and Standardization - Todas as Features"
   ]
  },
  {
   "cell_type": "code",
   "execution_count": 1,
   "metadata": {
    "collapsed": true
   },
   "outputs": [],
   "source": [
    "import pandas as pd\n",
    "import numpy as np\n",
    "from sklearn import preprocessing\n",
    "from sklearn.model_selection import train_test_split\n",
    "from sklearn.naive_bayes import GaussianNB\n",
    "from sklearn.neighbors import KNeighborsClassifier\n",
    "from sklearn import metrics"
   ]
  },
  {
   "cell_type": "code",
   "execution_count": 2,
   "metadata": {
    "scrolled": true
   },
   "outputs": [
    {
     "data": {
      "text/html": [
       "<div>\n",
       "<style>\n",
       "    .dataframe thead tr:only-child th {\n",
       "        text-align: right;\n",
       "    }\n",
       "\n",
       "    .dataframe thead th {\n",
       "        text-align: left;\n",
       "    }\n",
       "\n",
       "    .dataframe tbody tr th {\n",
       "        vertical-align: top;\n",
       "    }\n",
       "</style>\n",
       "<table border=\"1\" class=\"dataframe\">\n",
       "  <thead>\n",
       "    <tr style=\"text-align: right;\">\n",
       "      <th></th>\n",
       "      <th>0</th>\n",
       "      <th>1</th>\n",
       "      <th>2</th>\n",
       "      <th>3</th>\n",
       "      <th>4</th>\n",
       "      <th>5</th>\n",
       "      <th>6</th>\n",
       "      <th>7</th>\n",
       "      <th>8</th>\n",
       "      <th>9</th>\n",
       "      <th>10</th>\n",
       "      <th>11</th>\n",
       "      <th>12</th>\n",
       "      <th>13</th>\n",
       "    </tr>\n",
       "  </thead>\n",
       "  <tbody>\n",
       "    <tr>\n",
       "      <th>0</th>\n",
       "      <td>1</td>\n",
       "      <td>14.23</td>\n",
       "      <td>1.71</td>\n",
       "      <td>2.43</td>\n",
       "      <td>15.6</td>\n",
       "      <td>127</td>\n",
       "      <td>2.80</td>\n",
       "      <td>3.06</td>\n",
       "      <td>0.28</td>\n",
       "      <td>2.29</td>\n",
       "      <td>5.64</td>\n",
       "      <td>1.04</td>\n",
       "      <td>3.92</td>\n",
       "      <td>1065</td>\n",
       "    </tr>\n",
       "    <tr>\n",
       "      <th>1</th>\n",
       "      <td>1</td>\n",
       "      <td>13.20</td>\n",
       "      <td>1.78</td>\n",
       "      <td>2.14</td>\n",
       "      <td>11.2</td>\n",
       "      <td>100</td>\n",
       "      <td>2.65</td>\n",
       "      <td>2.76</td>\n",
       "      <td>0.26</td>\n",
       "      <td>1.28</td>\n",
       "      <td>4.38</td>\n",
       "      <td>1.05</td>\n",
       "      <td>3.40</td>\n",
       "      <td>1050</td>\n",
       "    </tr>\n",
       "    <tr>\n",
       "      <th>2</th>\n",
       "      <td>1</td>\n",
       "      <td>13.16</td>\n",
       "      <td>2.36</td>\n",
       "      <td>2.67</td>\n",
       "      <td>18.6</td>\n",
       "      <td>101</td>\n",
       "      <td>2.80</td>\n",
       "      <td>3.24</td>\n",
       "      <td>0.30</td>\n",
       "      <td>2.81</td>\n",
       "      <td>5.68</td>\n",
       "      <td>1.03</td>\n",
       "      <td>3.17</td>\n",
       "      <td>1185</td>\n",
       "    </tr>\n",
       "    <tr>\n",
       "      <th>3</th>\n",
       "      <td>1</td>\n",
       "      <td>14.37</td>\n",
       "      <td>1.95</td>\n",
       "      <td>2.50</td>\n",
       "      <td>16.8</td>\n",
       "      <td>113</td>\n",
       "      <td>3.85</td>\n",
       "      <td>3.49</td>\n",
       "      <td>0.24</td>\n",
       "      <td>2.18</td>\n",
       "      <td>7.80</td>\n",
       "      <td>0.86</td>\n",
       "      <td>3.45</td>\n",
       "      <td>1480</td>\n",
       "    </tr>\n",
       "    <tr>\n",
       "      <th>4</th>\n",
       "      <td>1</td>\n",
       "      <td>13.24</td>\n",
       "      <td>2.59</td>\n",
       "      <td>2.87</td>\n",
       "      <td>21.0</td>\n",
       "      <td>118</td>\n",
       "      <td>2.80</td>\n",
       "      <td>2.69</td>\n",
       "      <td>0.39</td>\n",
       "      <td>1.82</td>\n",
       "      <td>4.32</td>\n",
       "      <td>1.04</td>\n",
       "      <td>2.93</td>\n",
       "      <td>735</td>\n",
       "    </tr>\n",
       "  </tbody>\n",
       "</table>\n",
       "</div>"
      ],
      "text/plain": [
       "   0      1     2     3     4    5     6     7     8     9     10    11    12  \\\n",
       "0   1  14.23  1.71  2.43  15.6  127  2.80  3.06  0.28  2.29  5.64  1.04  3.92   \n",
       "1   1  13.20  1.78  2.14  11.2  100  2.65  2.76  0.26  1.28  4.38  1.05  3.40   \n",
       "2   1  13.16  2.36  2.67  18.6  101  2.80  3.24  0.30  2.81  5.68  1.03  3.17   \n",
       "3   1  14.37  1.95  2.50  16.8  113  3.85  3.49  0.24  2.18  7.80  0.86  3.45   \n",
       "4   1  13.24  2.59  2.87  21.0  118  2.80  2.69  0.39  1.82  4.32  1.04  2.93   \n",
       "\n",
       "     13  \n",
       "0  1065  \n",
       "1  1050  \n",
       "2  1185  \n",
       "3  1480  \n",
       "4   735  "
      ]
     },
     "execution_count": 2,
     "metadata": {},
     "output_type": "execute_result"
    }
   ],
   "source": [
    "#df = pd.io.parsers.read_csv('datasets/wine_data.csv', header=None, usecols=[0,1,2])\n",
    "df = pd.io.parsers.read_csv('datasets/wine_data.csv', header=None)\n",
    "#df = pd.read_csv('datasets/wine_data.csv', header=None, usecols=[0,8,13])\n",
    "\n",
    "#df.columns=['Class label', 'Alcohol', 'Malic acid']\n",
    "\n",
    "df.head()"
   ]
  },
  {
   "cell_type": "code",
   "execution_count": 3,
   "metadata": {
    "collapsed": true
   },
   "outputs": [],
   "source": [
    "X_wine = df.values[:,1:]\n",
    "y_wine = df.values[:,0]\n",
    "\n",
    "X_train, X_test, y_train, y_test = train_test_split(X_wine, y_wine,\n",
    "    test_size=0.30, random_state=12345)"
   ]
  },
  {
   "cell_type": "code",
   "execution_count": 4,
   "metadata": {
    "collapsed": true
   },
   "outputs": [],
   "source": [
    "std_scale = preprocessing.StandardScaler().fit(X_train)\n",
    "X_train_std = std_scale.transform(X_train)\n",
    "X_test_std = std_scale.transform(X_test)"
   ]
  },
  {
   "cell_type": "code",
   "execution_count": 5,
   "metadata": {
    "collapsed": true
   },
   "outputs": [],
   "source": [
    "norm_scale = preprocessing.MinMaxScaler().fit(X_train)\n",
    "X_train_norm = norm_scale.transform(X_train)\n",
    "X_test_norm = norm_scale.transform(X_test)"
   ]
  },
  {
   "cell_type": "markdown",
   "metadata": {},
   "source": [
    "# Usando Gaussian Naive Bayes"
   ]
  },
  {
   "cell_type": "code",
   "execution_count": 6,
   "metadata": {},
   "outputs": [
    {
     "data": {
      "text/plain": [
       "GaussianNB(priors=None)"
      ]
     },
     "execution_count": 6,
     "metadata": {},
     "output_type": "execute_result"
    }
   ],
   "source": [
    "# on non-standardized data\n",
    "gnb = GaussianNB()\n",
    "gnb.fit(X_train, y_train)\n",
    "\n",
    "# on standardized data\n",
    "gnb_std = GaussianNB()\n",
    "gnb_std.fit(X_train_std, y_train)\n",
    "\n",
    "# on normalized data\n",
    "gnb_norm = GaussianNB()\n",
    "gnb_norm.fit(X_train_norm, y_train)"
   ]
  },
  {
   "cell_type": "code",
   "execution_count": 7,
   "metadata": {},
   "outputs": [
    {
     "name": "stdout",
     "output_type": "stream",
     "text": [
      "\n",
      "Prediction accuracy for the training dataset\n",
      "98.39%\n",
      "\n",
      "Prediction accuracy for the test dataset\n",
      "98.15%\n",
      "\n"
     ]
    }
   ],
   "source": [
    "y_pred_train = gnb.predict(X_train)\n",
    "print('\\nPrediction accuracy for the training dataset')\n",
    "print('{:.2%}'.format(metrics.accuracy_score(y_train, y_pred_train)))\n",
    "\n",
    "y_pred_test = gnb.predict(X_test)\n",
    "print('\\nPrediction accuracy for the test dataset')\n",
    "print('{:.2%}\\n'.format(metrics.accuracy_score(y_test, y_pred_test)))"
   ]
  },
  {
   "cell_type": "code",
   "execution_count": 8,
   "metadata": {},
   "outputs": [
    {
     "name": "stdout",
     "output_type": "stream",
     "text": [
      "\n",
      "Prediction accuracy for the training dataset\n",
      "98.39%\n",
      "\n",
      "Prediction accuracy for the test dataset\n",
      "98.15%\n",
      "\n"
     ]
    }
   ],
   "source": [
    "y_pred_train_std = gnb_std.predict(X_train_std)\n",
    "print('\\nPrediction accuracy for the training dataset')\n",
    "print('{:.2%}'.format(metrics.accuracy_score(y_train, y_pred_train_std)))\n",
    "\n",
    "y_pred_test_std = gnb_std.predict(X_test_std)\n",
    "print('\\nPrediction accuracy for the test dataset')\n",
    "print('{:.2%}\\n'.format(metrics.accuracy_score(y_test, y_pred_test_std)))"
   ]
  },
  {
   "cell_type": "code",
   "execution_count": 10,
   "metadata": {},
   "outputs": [
    {
     "name": "stdout",
     "output_type": "stream",
     "text": [
      "Prediction accuracy for the training dataset\n",
      "98.39%\n",
      "Prediction accuracy for the test dataset\n",
      "98.15%\n"
     ]
    }
   ],
   "source": [
    "y_pred_train_norm = gnb_norm.predict(X_train_norm)\n",
    "print('Prediction accuracy for the training dataset')\n",
    "print('{:.2%}'.format(metrics.accuracy_score(y_train, y_pred_train_norm)))\n",
    "\n",
    "y_pred_test_norm = gnb_norm.predict(X_test_norm)\n",
    "print('Prediction accuracy for the test dataset')\n",
    "print('{:.2%}'.format(metrics.accuracy_score(y_test, y_pred_test_norm)))\n"
   ]
  },
  {
   "cell_type": "markdown",
   "metadata": {
    "collapsed": true
   },
   "source": [
    "# Usando kNN"
   ]
  },
  {
   "cell_type": "code",
   "execution_count": 11,
   "metadata": {},
   "outputs": [
    {
     "data": {
      "text/plain": [
       "KNeighborsClassifier(algorithm='auto', leaf_size=30, metric='minkowski',\n",
       "           metric_params=None, n_jobs=1, n_neighbors=5, p=2,\n",
       "           weights='uniform')"
      ]
     },
     "execution_count": 11,
     "metadata": {},
     "output_type": "execute_result"
    }
   ],
   "source": [
    "# on non-standardized data\n",
    "knn = KNeighborsClassifier()\n",
    "knn.fit(X_train, y_train)\n",
    "\n",
    "# on standardized data\n",
    "knn_std = KNeighborsClassifier()\n",
    "knn_std.fit(X_train_std, y_train)\n",
    "\n",
    "# on normalized data\n",
    "knn_norm = KNeighborsClassifier()\n",
    "knn_norm.fit(X_train_norm, y_train)"
   ]
  },
  {
   "cell_type": "code",
   "execution_count": 12,
   "metadata": {},
   "outputs": [
    {
     "name": "stdout",
     "output_type": "stream",
     "text": [
      "\n",
      "Prediction accuracy for the training dataset\n",
      "79.84%\n",
      "\n",
      "Prediction accuracy for the test dataset\n",
      "62.96%\n",
      "\n"
     ]
    }
   ],
   "source": [
    "y_pred_train = knn.predict(X_train)\n",
    "print('\\nPrediction accuracy for the training dataset')\n",
    "print('{:.2%}'.format(metrics.accuracy_score(y_train, y_pred_train)))\n",
    "\n",
    "y_pred_test = knn.predict(X_test)\n",
    "print('\\nPrediction accuracy for the test dataset')\n",
    "print('{:.2%}\\n'.format(metrics.accuracy_score(y_test, y_pred_test)))"
   ]
  },
  {
   "cell_type": "code",
   "execution_count": 13,
   "metadata": {},
   "outputs": [
    {
     "name": "stdout",
     "output_type": "stream",
     "text": [
      "\n",
      "Prediction accuracy for the training dataset\n",
      "96.77%\n",
      "\n",
      "Prediction accuracy for the test dataset\n",
      "100.00%\n",
      "\n"
     ]
    }
   ],
   "source": [
    "y_pred_train_std = knn_std.predict(X_train_std)\n",
    "print('\\nPrediction accuracy for the training dataset')\n",
    "print('{:.2%}'.format(metrics.accuracy_score(y_train, y_pred_train_std)))\n",
    "\n",
    "y_pred_test_std = knn_std.predict(X_test_std)\n",
    "print('\\nPrediction accuracy for the test dataset')\n",
    "print('{:.2%}\\n'.format(metrics.accuracy_score(y_test, y_pred_test_std)))"
   ]
  },
  {
   "cell_type": "code",
   "execution_count": 14,
   "metadata": {},
   "outputs": [
    {
     "name": "stdout",
     "output_type": "stream",
     "text": [
      "Prediction accuracy for the training dataset\n",
      "96.77%\n",
      "Prediction accuracy for the test dataset\n",
      "98.15%\n"
     ]
    }
   ],
   "source": [
    "y_pred_train_norm = knn_norm.predict(X_train_norm)\n",
    "print('Prediction accuracy for the training dataset')\n",
    "print('{:.2%}'.format(metrics.accuracy_score(y_train, y_pred_train_norm)))\n",
    "\n",
    "y_pred_test_norm = knn_norm.predict(X_test_norm)\n",
    "print('Prediction accuracy for the test dataset')\n",
    "print('{:.2%}'.format(metrics.accuracy_score(y_test, y_pred_test_norm)))"
   ]
  },
  {
   "cell_type": "code",
   "execution_count": null,
   "metadata": {
    "collapsed": true
   },
   "outputs": [],
   "source": []
  }
 ],
 "metadata": {
  "kernelspec": {
   "display_name": "Python 3",
   "language": "python",
   "name": "python3"
  },
  "language_info": {
   "codemirror_mode": {
    "name": "ipython",
    "version": 3
   },
   "file_extension": ".py",
   "mimetype": "text/x-python",
   "name": "python",
   "nbconvert_exporter": "python",
   "pygments_lexer": "ipython3",
   "version": "3.6.0"
  }
 },
 "nbformat": 4,
 "nbformat_minor": 2
}
