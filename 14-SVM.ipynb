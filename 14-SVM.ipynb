{
 "cells": [
  {
   "cell_type": "markdown",
   "metadata": {},
   "source": [
    "# SVM - Support Vector Machine"
   ]
  },
  {
   "cell_type": "code",
   "execution_count": 1,
   "metadata": {
    "collapsed": true
   },
   "outputs": [],
   "source": [
    "import numpy as np\n",
    "import pandas as pd\n",
    "\n",
    "from sklearn import svm\n",
    "from sklearn.model_selection import StratifiedKFold\n",
    "from sklearn.metrics import accuracy_score\n",
    "from sklearn import preprocessing"
   ]
  },
  {
   "cell_type": "code",
   "execution_count": 2,
   "metadata": {
    "collapsed": true
   },
   "outputs": [],
   "source": [
    "df = pd.read_csv('datasets/pima-indians-diabetes.csv', header=None)"
   ]
  },
  {
   "cell_type": "code",
   "execution_count": 3,
   "metadata": {},
   "outputs": [
    {
     "data": {
      "text/plain": [
       "6912"
      ]
     },
     "execution_count": 3,
     "metadata": {},
     "output_type": "execute_result"
    }
   ],
   "source": [
    "df.size"
   ]
  },
  {
   "cell_type": "code",
   "execution_count": 4,
   "metadata": {},
   "outputs": [],
   "source": [
    "X = df.values[:, :-1]\n",
    "y = df.values[:, -1]"
   ]
  },
  {
   "cell_type": "code",
   "execution_count": 5,
   "metadata": {},
   "outputs": [],
   "source": [
    "# scale_type (None, 'norm'-normalization, 'std'-standardization)\n",
    "def svm_eval(n_splits=3, scale_type=None):\n",
    "    accuracy = []\n",
    "    kfold = StratifiedKFold(n_splits=n_splits, shuffle=True, random_state=42)\n",
    "    for train_index, test_index in kfold.split(X, y):\n",
    "        if scale_type == 'std':\n",
    "            scale = preprocessing.StandardScaler().fit(X[train_index])\n",
    "            X_train = scale.transform(X[train_index])\n",
    "            X_test = scale.transform(X[test_index])\n",
    "        elif scale_type == 'norm':\n",
    "            scale = preprocessing.MinMaxScaler().fit(X[train_index])\n",
    "            X_train = scale.transform(X[train_index])\n",
    "            X_test = scale.transform(X[test_index])\n",
    "        else:\n",
    "            X_train = X[train_index]\n",
    "            X_test = X[test_index]\n",
    "            \n",
    "        model = svm.SVC()\n",
    "        model.fit(X_train, y[train_index])\n",
    "        y_pred = model.predict(X_test)\n",
    "        accuracy.append(accuracy_score(y[test_index], y_pred))\n",
    "    return accuracy"
   ]
  },
  {
   "cell_type": "markdown",
   "metadata": {},
   "source": [
    "# Usando k-fold com k=[3, 5, 10]"
   ]
  },
  {
   "cell_type": "code",
   "execution_count": 10,
   "metadata": {},
   "outputs": [
    {
     "name": "stdout",
     "output_type": "stream",
     "text": [
      "[0.64980544747081714, 0.65234375, 0.65098039215686276]\n",
      "mean 0.651043196543\n",
      "[0.64935064935064934, 0.64935064935064934, 0.64935064935064934, 0.65359477124183007, 0.65359477124183007]\n",
      "mean 0.651048298107\n",
      "[0.64935064935064934, 0.64935064935064934, 0.64935064935064934, 0.64935064935064934, 0.64935064935064934, 0.64935064935064934, 0.64935064935064934, 0.64935064935064934, 0.65789473684210531, 0.65789473684210531]\n",
      "mean 0.651059466849\n"
     ]
    }
   ],
   "source": [
    "accuracy = svm_eval(3)\n",
    "print(accuracy)\n",
    "print('mean', np.mean(accuracy))\n",
    "\n",
    "accuracy = svm_eval(5)\n",
    "print(accuracy)\n",
    "print('mean', np.mean(accuracy))\n",
    "\n",
    "accuracy = svm_eval(10)\n",
    "print(accuracy)\n",
    "print('mean', np.mean(accuracy))"
   ]
  },
  {
   "cell_type": "markdown",
   "metadata": {},
   "source": [
    "# Usando Normalization"
   ]
  },
  {
   "cell_type": "code",
   "execution_count": 11,
   "metadata": {},
   "outputs": [
    {
     "name": "stdout",
     "output_type": "stream",
     "text": [
      "[0.73151750972762641, 0.7734375, 0.73333333333333328]\n",
      "mean 0.746096114354\n",
      "[0.75974025974025972, 0.77922077922077926, 0.77272727272727271, 0.77777777777777779, 0.72549019607843135]\n",
      "mean 0.762991257109\n",
      "[0.76623376623376627, 0.77922077922077926, 0.76623376623376627, 0.80519480519480524, 0.7142857142857143, 0.79220779220779225, 0.77922077922077926, 0.76623376623376627, 0.71052631578947367, 0.75]\n",
      "mean 0.762935748462\n"
     ]
    }
   ],
   "source": [
    "accuracy = svm_eval(3, scale_type='norm')\n",
    "print(accuracy)\n",
    "print('mean', np.mean(accuracy))\n",
    "\n",
    "accuracy = svm_eval(5, scale_type='norm')\n",
    "print(accuracy)\n",
    "print('mean', np.mean(accuracy))\n",
    "\n",
    "accuracy = svm_eval(10, scale_type='norm')\n",
    "print(accuracy)\n",
    "print('mean', np.mean(accuracy))"
   ]
  },
  {
   "cell_type": "markdown",
   "metadata": {},
   "source": [
    "# Usando Standardization"
   ]
  },
  {
   "cell_type": "code",
   "execution_count": 12,
   "metadata": {},
   "outputs": [
    {
     "name": "stdout",
     "output_type": "stream",
     "text": [
      "[0.77821011673151752, 0.75390625, 0.75686274509803919]\n",
      "mean 0.762993037277\n",
      "[0.7857142857142857, 0.72727272727272729, 0.74025974025974028, 0.76470588235294112, 0.75816993464052285]\n",
      "mean 0.755224514048\n",
      "[0.76623376623376627, 0.77922077922077926, 0.75324675324675328, 0.75324675324675328, 0.7142857142857143, 0.79220779220779225, 0.75324675324675328, 0.74025974025974028, 0.75, 0.81578947368421051]\n",
      "mean 0.761773752563\n"
     ]
    }
   ],
   "source": [
    "accuracy = svm_eval(3, scale_type='std')\n",
    "print(accuracy)\n",
    "print('mean', np.mean(accuracy))\n",
    "\n",
    "accuracy = svm_eval(5, scale_type='std')\n",
    "print(accuracy)\n",
    "print('mean', np.mean(accuracy))\n",
    "\n",
    "accuracy = svm_eval(10, scale_type='std')\n",
    "print(accuracy)\n",
    "print('mean', np.mean(accuracy))"
   ]
  },
  {
   "cell_type": "code",
   "execution_count": null,
   "metadata": {
    "collapsed": true
   },
   "outputs": [],
   "source": []
  }
 ],
 "metadata": {
  "kernelspec": {
   "display_name": "Python 3",
   "language": "python",
   "name": "python3"
  },
  "language_info": {
   "codemirror_mode": {
    "name": "ipython",
    "version": 3
   },
   "file_extension": ".py",
   "mimetype": "text/x-python",
   "name": "python",
   "nbconvert_exporter": "python",
   "pygments_lexer": "ipython3",
   "version": "3.6.0"
  }
 },
 "nbformat": 4,
 "nbformat_minor": 2
}
