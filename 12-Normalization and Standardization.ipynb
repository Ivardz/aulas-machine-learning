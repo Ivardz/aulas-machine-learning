{
 "cells": [
  {
   "cell_type": "markdown",
   "metadata": {},
   "source": [
    "# Normalization and Standardization"
   ]
  },
  {
   "cell_type": "code",
   "execution_count": 25,
   "metadata": {
    "collapsed": true
   },
   "outputs": [],
   "source": [
    "import pandas as pd\n",
    "import numpy as np\n",
    "from sklearn import preprocessing\n",
    "from sklearn.model_selection import train_test_split\n",
    "from sklearn.naive_bayes import GaussianNB\n",
    "from sklearn.neighbors import KNeighborsClassifier\n",
    "from sklearn import metrics"
   ]
  },
  {
   "cell_type": "code",
   "execution_count": 2,
   "metadata": {
    "scrolled": true
   },
   "outputs": [
    {
     "data": {
      "text/html": [
       "<div>\n",
       "<style>\n",
       "    .dataframe thead tr:only-child th {\n",
       "        text-align: right;\n",
       "    }\n",
       "\n",
       "    .dataframe thead th {\n",
       "        text-align: left;\n",
       "    }\n",
       "\n",
       "    .dataframe tbody tr th {\n",
       "        vertical-align: top;\n",
       "    }\n",
       "</style>\n",
       "<table border=\"1\" class=\"dataframe\">\n",
       "  <thead>\n",
       "    <tr style=\"text-align: right;\">\n",
       "      <th></th>\n",
       "      <th>Class label</th>\n",
       "      <th>Alcohol</th>\n",
       "      <th>Malic acid</th>\n",
       "    </tr>\n",
       "  </thead>\n",
       "  <tbody>\n",
       "    <tr>\n",
       "      <th>0</th>\n",
       "      <td>1</td>\n",
       "      <td>14.23</td>\n",
       "      <td>1.71</td>\n",
       "    </tr>\n",
       "    <tr>\n",
       "      <th>1</th>\n",
       "      <td>1</td>\n",
       "      <td>13.20</td>\n",
       "      <td>1.78</td>\n",
       "    </tr>\n",
       "    <tr>\n",
       "      <th>2</th>\n",
       "      <td>1</td>\n",
       "      <td>13.16</td>\n",
       "      <td>2.36</td>\n",
       "    </tr>\n",
       "    <tr>\n",
       "      <th>3</th>\n",
       "      <td>1</td>\n",
       "      <td>14.37</td>\n",
       "      <td>1.95</td>\n",
       "    </tr>\n",
       "    <tr>\n",
       "      <th>4</th>\n",
       "      <td>1</td>\n",
       "      <td>13.24</td>\n",
       "      <td>2.59</td>\n",
       "    </tr>\n",
       "  </tbody>\n",
       "</table>\n",
       "</div>"
      ],
      "text/plain": [
       "   Class label  Alcohol  Malic acid\n",
       "0            1    14.23        1.71\n",
       "1            1    13.20        1.78\n",
       "2            1    13.16        2.36\n",
       "3            1    14.37        1.95\n",
       "4            1    13.24        2.59"
      ]
     },
     "execution_count": 2,
     "metadata": {},
     "output_type": "execute_result"
    }
   ],
   "source": [
    "df = pd.io.parsers.read_csv('datasets/wine_data.csv', header=None, usecols=[0,1,2])\n",
    "\n",
    "df.columns=['Class label', 'Alcohol', 'Malic acid']\n",
    "\n",
    "df.head()"
   ]
  },
  {
   "cell_type": "code",
   "execution_count": 3,
   "metadata": {},
   "outputs": [
    {
     "name": "stdout",
     "output_type": "stream",
     "text": [
      "Mean after standardization:\n",
      "Alcohol=-0.00, Malic acid=-0.00\n",
      "\n",
      "Standard deviation after standardization:\n",
      "Alcohol=1.00, Malic acid=1.00\n"
     ]
    }
   ],
   "source": [
    "std_scale = preprocessing.StandardScaler().fit(df[['Alcohol', 'Malic acid']])\n",
    "df_std = std_scale.transform(df[['Alcohol', 'Malic acid']])\n",
    "\n",
    "print('Mean after standardization:\\nAlcohol={:.2f}, Malic acid={:.2f}'\n",
    "      .format(df_std[:,0].mean(), df_std[:,1].mean()))\n",
    "print('\\nStandard deviation after standardization:\\nAlcohol={:.2f}, Malic acid={:.2f}'\n",
    "      .format(df_std[:,0].std(), df_std[:,1].std()))"
   ]
  },
  {
   "cell_type": "code",
   "execution_count": 4,
   "metadata": {},
   "outputs": [
    {
     "name": "stdout",
     "output_type": "stream",
     "text": [
      "Min-value after min-max scaling:\n",
      "Alcohol=0.00, Malic acid=0.00\n",
      "\n",
      "Max-value after min-max scaling:\n",
      "Alcohol=1.00, Malic acid=1.00\n"
     ]
    }
   ],
   "source": [
    "minmax_scale = preprocessing.MinMaxScaler().fit(df[['Alcohol', 'Malic acid']])\n",
    "df_minmax = minmax_scale.transform(df[['Alcohol', 'Malic acid']])\n",
    "\n",
    "print('Min-value after min-max scaling:\\nAlcohol={:.2f}, Malic acid={:.2f}'\n",
    "      .format(df_minmax[:,0].min(), df_minmax[:,1].min()))\n",
    "print('\\nMax-value after min-max scaling:\\nAlcohol={:.2f}, Malic acid={:.2f}'\n",
    "      .format(df_minmax[:,0].max(), df_minmax[:,1].max()))"
   ]
  },
  {
   "cell_type": "code",
   "execution_count": 5,
   "metadata": {
    "collapsed": true
   },
   "outputs": [],
   "source": [
    "X_wine = df.values[:,1:]\n",
    "y_wine = df.values[:,0]\n",
    "\n",
    "X_train, X_test, y_train, y_test = train_test_split(X_wine, y_wine,\n",
    "    test_size=0.30, random_state=12345)"
   ]
  },
  {
   "cell_type": "code",
   "execution_count": 6,
   "metadata": {
    "collapsed": true
   },
   "outputs": [],
   "source": [
    "std_scale = preprocessing.StandardScaler().fit(X_train)\n",
    "X_train_std = std_scale.transform(X_train)\n",
    "X_test_std = std_scale.transform(X_test)"
   ]
  },
  {
   "cell_type": "code",
   "execution_count": 7,
   "metadata": {
    "collapsed": true
   },
   "outputs": [],
   "source": [
    "norm_scale = preprocessing.MinMaxScaler().fit(X_train)\n",
    "X_train_norm = std_scale.transform(X_train)\n",
    "X_test_norm = std_scale.transform(X_test)"
   ]
  },
  {
   "cell_type": "markdown",
   "metadata": {},
   "source": [
    "# Usando Gaussian Naive Bayes"
   ]
  },
  {
   "cell_type": "code",
   "execution_count": 8,
   "metadata": {},
   "outputs": [
    {
     "data": {
      "text/plain": [
       "GaussianNB(priors=None)"
      ]
     },
     "execution_count": 8,
     "metadata": {},
     "output_type": "execute_result"
    }
   ],
   "source": [
    "# on non-standardized data\n",
    "gnb = GaussianNB()\n",
    "gnb.fit(X_train, y_train)\n",
    "\n",
    "# on standardized data\n",
    "gnb_std = GaussianNB()\n",
    "gnb_std.fit(X_train_std, y_train)\n",
    "\n",
    "# on normalized data\n",
    "gnb_norm = GaussianNB()\n",
    "gnb_norm.fit(X_train_norm, y_train)"
   ]
  },
  {
   "cell_type": "code",
   "execution_count": 12,
   "metadata": {},
   "outputs": [
    {
     "name": "stdout",
     "output_type": "stream",
     "text": [
      "\n",
      "Prediction accuracy for the training dataset\n",
      "80.65%\n",
      "\n",
      "Prediction accuracy for the test dataset\n",
      "77.78%\n",
      "\n"
     ]
    }
   ],
   "source": [
    "y_pred_train = gnb.predict(X_train)\n",
    "print('\\nPrediction accuracy for the training dataset')\n",
    "print('{:.2%}'.format(metrics.accuracy_score(y_train, y_pred_train)))\n",
    "\n",
    "y_pred_test = gnb.predict(X_test)\n",
    "print('\\nPrediction accuracy for the test dataset')\n",
    "print('{:.2%}\\n'.format(metrics.accuracy_score(y_test, y_pred_test)))"
   ]
  },
  {
   "cell_type": "code",
   "execution_count": 13,
   "metadata": {},
   "outputs": [
    {
     "name": "stdout",
     "output_type": "stream",
     "text": [
      "\n",
      "Prediction accuracy for the training dataset\n",
      "80.65%\n",
      "\n",
      "Prediction accuracy for the test dataset\n",
      "77.78%\n",
      "\n"
     ]
    }
   ],
   "source": [
    "y_pred_train_std = gnb_std.predict(X_train_std)\n",
    "print('\\nPrediction accuracy for the training dataset')\n",
    "print('{:.2%}'.format(metrics.accuracy_score(y_train, y_pred_train_std)))\n",
    "\n",
    "y_pred_test_std = gnb_std.predict(X_test_std)\n",
    "print('\\nPrediction accuracy for the test dataset')\n",
    "print('{:.2%}\\n'.format(metrics.accuracy_score(y_test, y_pred_test_std)))"
   ]
  },
  {
   "cell_type": "code",
   "execution_count": 14,
   "metadata": {},
   "outputs": [
    {
     "name": "stdout",
     "output_type": "stream",
     "text": [
      "Prediction accuracy for the training dataset\n",
      "80.65%\n",
      "Prediction accuracy for the test dataset\n",
      "77.78%\n"
     ]
    }
   ],
   "source": [
    "y_pred_train_norm = gnb_norm.predict(X_train_norm)\n",
    "print('Prediction accuracy for the training dataset')\n",
    "print('{:.2%}'.format(metrics.accuracy_score(y_train, y_pred_train_norm)))\n",
    "\n",
    "y_pred_test_norm = gnb_norm.predict(X_test_norm)\n",
    "print('Prediction accuracy for the test dataset')\n",
    "print('{:.2%}'.format(metrics.accuracy_score(y_test, y_pred_test_norm)))\n"
   ]
  },
  {
   "cell_type": "markdown",
   "metadata": {},
   "source": [
    "# Usando kNN"
   ]
  },
  {
   "cell_type": "code",
   "execution_count": 29,
   "metadata": {},
   "outputs": [
    {
     "data": {
      "text/plain": [
       "KNeighborsClassifier(algorithm='auto', leaf_size=30, metric='minkowski',\n",
       "           metric_params=None, n_jobs=1, n_neighbors=5, p=2,\n",
       "           weights='uniform')"
      ]
     },
     "execution_count": 29,
     "metadata": {},
     "output_type": "execute_result"
    }
   ],
   "source": [
    "# on non-standardized data\n",
    "knn = KNeighborsClassifier()\n",
    "knn.fit(X_train, y_train)\n",
    "\n",
    "# on standardized data\n",
    "knn_std = KNeighborsClassifier()\n",
    "knn_std.fit(X_train_std, y_train)\n",
    "\n",
    "# on normalized data\n",
    "knn_norm = KNeighborsClassifier()\n",
    "knn_norm.fit(X_train_norm, y_train)"
   ]
  },
  {
   "cell_type": "code",
   "execution_count": 30,
   "metadata": {},
   "outputs": [
    {
     "name": "stdout",
     "output_type": "stream",
     "text": [
      "\n",
      "Prediction accuracy for the training dataset\n",
      "85.48%\n",
      "\n",
      "Prediction accuracy for the test dataset\n",
      "75.93%\n",
      "\n"
     ]
    }
   ],
   "source": [
    "y_pred_train = knn.predict(X_train)\n",
    "print('\\nPrediction accuracy for the training dataset')\n",
    "print('{:.2%}'.format(metrics.accuracy_score(y_train, y_pred_train)))\n",
    "\n",
    "y_pred_test = knn.predict(X_test)\n",
    "print('\\nPrediction accuracy for the test dataset')\n",
    "print('{:.2%}\\n'.format(metrics.accuracy_score(y_test, y_pred_test)))"
   ]
  },
  {
   "cell_type": "code",
   "execution_count": 28,
   "metadata": {},
   "outputs": [
    {
     "data": {
      "text/plain": [
       "array([[ 11.46,   3.74],\n",
       "       [ 12.37,   1.07],\n",
       "       [ 12.69,   1.53],\n",
       "       [ 12.47,   1.52],\n",
       "       [ 13.63,   1.81],\n",
       "       [ 13.9 ,   1.68],\n",
       "       [ 12.99,   1.67],\n",
       "       [ 12.7 ,   3.87],\n",
       "       [ 14.83,   1.64],\n",
       "       [ 14.75,   1.73],\n",
       "       [ 12.29,   3.17],\n",
       "       [ 11.84,   0.89],\n",
       "       [ 13.05,   2.05],\n",
       "       [ 13.73,   4.36],\n",
       "       [ 12.34,   2.45],\n",
       "       [ 13.86,   1.35],\n",
       "       [ 12.16,   1.61],\n",
       "       [ 12.33,   1.1 ],\n",
       "       [ 13.16,   3.57],\n",
       "       [ 13.36,   2.56],\n",
       "       [ 12.67,   0.98],\n",
       "       [ 12.52,   2.43],\n",
       "       [ 14.21,   4.04],\n",
       "       [ 12.21,   1.19],\n",
       "       [ 13.86,   1.51],\n",
       "       [ 12.37,   1.63],\n",
       "       [ 12.85,   3.27],\n",
       "       [ 12.37,   1.21],\n",
       "       [ 12.51,   1.73],\n",
       "       [ 12.82,   3.37],\n",
       "       [ 11.62,   1.99],\n",
       "       [ 12.53,   5.51],\n",
       "       [ 13.05,   1.65],\n",
       "       [ 13.94,   1.73],\n",
       "       [ 13.11,   1.01],\n",
       "       [ 14.39,   1.87],\n",
       "       [ 12.87,   4.61],\n",
       "       [ 14.37,   1.95],\n",
       "       [ 13.68,   1.83],\n",
       "       [ 13.73,   1.5 ],\n",
       "       [ 13.17,   5.19],\n",
       "       [ 13.39,   1.77],\n",
       "       [ 13.71,   5.65],\n",
       "       [ 13.88,   5.04],\n",
       "       [ 13.05,   1.77],\n",
       "       [ 12.08,   1.83],\n",
       "       [ 14.23,   1.71],\n",
       "       [ 12.37,   1.13],\n",
       "       [ 12.84,   2.96],\n",
       "       [ 13.84,   4.12],\n",
       "       [ 12.93,   3.8 ],\n",
       "       [ 12.58,   1.29],\n",
       "       [ 13.72,   1.43],\n",
       "       [ 14.38,   3.59],\n",
       "       [ 13.29,   1.97],\n",
       "       [ 12.08,   1.13],\n",
       "       [ 13.05,   1.73],\n",
       "       [ 14.19,   1.59],\n",
       "       [ 13.41,   3.84],\n",
       "       [ 13.67,   1.25],\n",
       "       [ 11.79,   2.13],\n",
       "       [ 13.71,   1.86],\n",
       "       [ 13.03,   0.9 ],\n",
       "       [ 11.96,   1.09],\n",
       "       [ 12.86,   1.35],\n",
       "       [ 14.34,   1.68],\n",
       "       [ 11.81,   2.12],\n",
       "       [ 11.64,   2.06],\n",
       "       [ 13.07,   1.5 ],\n",
       "       [ 13.3 ,   1.72],\n",
       "       [ 12.  ,   0.92],\n",
       "       [ 13.05,   5.8 ],\n",
       "       [ 14.38,   1.87],\n",
       "       [ 13.75,   1.73],\n",
       "       [ 13.05,   3.86],\n",
       "       [ 13.45,   3.7 ],\n",
       "       [ 12.81,   2.31],\n",
       "       [ 12.22,   1.29],\n",
       "       [ 14.2 ,   1.76],\n",
       "       [ 13.49,   1.66],\n",
       "       [ 12.93,   2.81],\n",
       "       [ 13.77,   1.9 ],\n",
       "       [ 12.77,   2.39],\n",
       "       [ 12.25,   3.88],\n",
       "       [ 12.72,   1.75],\n",
       "       [ 12.45,   3.03],\n",
       "       [ 11.03,   1.51],\n",
       "       [ 11.66,   1.88],\n",
       "       [ 12.  ,   3.43],\n",
       "       [ 13.62,   4.95],\n",
       "       [ 12.7 ,   3.55],\n",
       "       [ 11.87,   4.31],\n",
       "       [ 12.88,   2.99],\n",
       "       [ 12.17,   1.45],\n",
       "       [ 13.28,   1.64],\n",
       "       [ 11.65,   1.67],\n",
       "       [ 12.96,   3.45],\n",
       "       [ 12.29,   1.41],\n",
       "       [ 13.58,   1.66],\n",
       "       [ 12.2 ,   3.03],\n",
       "       [ 12.85,   1.6 ],\n",
       "       [ 13.24,   3.98],\n",
       "       [ 14.06,   2.15],\n",
       "       [ 12.72,   1.81],\n",
       "       [ 13.49,   3.59],\n",
       "       [ 11.84,   2.89],\n",
       "       [ 14.12,   1.48],\n",
       "       [ 12.08,   1.39],\n",
       "       [ 13.58,   2.58],\n",
       "       [ 12.  ,   1.51],\n",
       "       [ 12.42,   2.55],\n",
       "       [ 13.52,   3.17],\n",
       "       [ 12.37,   0.94],\n",
       "       [ 11.41,   0.74],\n",
       "       [ 12.77,   3.43],\n",
       "       [ 13.2 ,   1.78],\n",
       "       [ 14.13,   4.1 ],\n",
       "       [ 13.51,   1.8 ],\n",
       "       [ 12.6 ,   1.34],\n",
       "       [ 12.43,   1.53],\n",
       "       [ 13.4 ,   4.6 ],\n",
       "       [ 13.78,   2.76],\n",
       "       [ 12.04,   4.3 ],\n",
       "       [ 14.02,   1.68]])"
      ]
     },
     "execution_count": 28,
     "metadata": {},
     "output_type": "execute_result"
    }
   ],
   "source": [
    "X_train"
   ]
  },
  {
   "cell_type": "code",
   "execution_count": null,
   "metadata": {
    "collapsed": true
   },
   "outputs": [],
   "source": []
  }
 ],
 "metadata": {
  "kernelspec": {
   "display_name": "Python 3",
   "language": "python",
   "name": "python3"
  },
  "language_info": {
   "codemirror_mode": {
    "name": "ipython",
    "version": 3
   },
   "file_extension": ".py",
   "mimetype": "text/x-python",
   "name": "python",
   "nbconvert_exporter": "python",
   "pygments_lexer": "ipython3",
   "version": "3.6.0"
  }
 },
 "nbformat": 4,
 "nbformat_minor": 2
}
