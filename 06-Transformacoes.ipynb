{
 "cells": [
  {
   "cell_type": "code",
   "execution_count": 1,
   "metadata": {
    "collapsed": true
   },
   "outputs": [],
   "source": [
    "%matplotlib inline\n",
    "import numpy as np\n",
    "from mylibs import transform as tf\n",
    "import seaborn as sns"
   ]
  },
  {
   "cell_type": "code",
   "execution_count": 2,
   "metadata": {},
   "outputs": [
    {
     "name": "stdout",
     "output_type": "stream",
     "text": [
      "[[ 54.88]\n",
      " [ 71.52]\n",
      " [ 60.28]\n",
      " [ 54.49]\n",
      " [ 42.37]\n",
      " [ 64.59]\n",
      " [ 43.76]\n",
      " [ 89.18]\n",
      " [ 96.37]\n",
      " [ 38.34]\n",
      " [ 79.17]\n",
      " [ 52.89]\n",
      " [ 56.8 ]\n",
      " [ 92.56]\n",
      " [  7.1 ]\n",
      " [  8.71]\n",
      " [  2.02]\n",
      " [ 83.26]\n",
      " [ 77.82]\n",
      " [ 87.  ]]\n"
     ]
    }
   ],
   "source": [
    "np.random.seed(0)\n",
    "x = np.random.rand(20)\n",
    "x = (x * 100).round(2)\n",
    "x = np.resize(x, (20, 1))\n",
    "print(x)"
   ]
  },
  {
   "cell_type": "code",
   "execution_count": 3,
   "metadata": {},
   "outputs": [
    {
     "data": {
      "text/plain": [
       "array([[-0.11870903],\n",
       "       [ 0.48434953],\n",
       "       [ 0.07699507],\n",
       "       [-0.13284322],\n",
       "       [-0.5720902 ],\n",
       "       [ 0.23319593],\n",
       "       [-0.52171451],\n",
       "       [ 1.12437442],\n",
       "       [ 1.38495081],\n",
       "       [-0.71814345],\n",
       "       [ 0.761597  ],\n",
       "       [-0.19082962],\n",
       "       [-0.04912535],\n",
       "       [ 1.24687069],\n",
       "       [-1.85032791],\n",
       "       [-1.79197909],\n",
       "       [-2.03443473],\n",
       "       [ 0.90982474],\n",
       "       [ 0.71267098],\n",
       "       [ 1.04536795]])"
      ]
     },
     "execution_count": 3,
     "metadata": {},
     "output_type": "execute_result"
    }
   ],
   "source": [
    "x_std = tf.standardize(x)\n",
    "x_std"
   ]
  },
  {
   "cell_type": "code",
   "execution_count": 4,
   "metadata": {},
   "outputs": [
    {
     "data": {
      "text/plain": [
       "array([[ 0.56025437],\n",
       "       [ 0.73661897],\n",
       "       [ 0.61748808],\n",
       "       [ 0.55612083],\n",
       "       [ 0.42766296],\n",
       "       [ 0.66316905],\n",
       "       [ 0.44239534],\n",
       "       [ 0.92379438],\n",
       "       [ 1.        ],\n",
       "       [ 0.38494966],\n",
       "       [ 0.81770005],\n",
       "       [ 0.53916269],\n",
       "       [ 0.58060413],\n",
       "       [ 0.95961844],\n",
       "       [ 0.05384208],\n",
       "       [ 0.0709062 ],\n",
       "       [ 0.        ],\n",
       "       [ 0.86104928],\n",
       "       [ 0.80339163],\n",
       "       [ 0.90068892]])"
      ]
     },
     "execution_count": 4,
     "metadata": {},
     "output_type": "execute_result"
    }
   ],
   "source": [
    "x_norm = tf.normalize(x)\n",
    "x_norm"
   ]
  },
  {
   "cell_type": "code",
   "execution_count": 5,
   "metadata": {
    "collapsed": true
   },
   "outputs": [],
   "source": [
    "def print_stats(x, label):\n",
    "    print('{}, mean: {}, std: {}, min: {}, max: {}'.format(label, np.mean(x).round(2), np.std(x).round(2), \n",
    "                                                       np.min(x).round(2), np.max(x).round(2)))"
   ]
  },
  {
   "cell_type": "code",
   "execution_count": 6,
   "metadata": {},
   "outputs": [
    {
     "name": "stdout",
     "output_type": "stream",
     "text": [
      "x     , mean: 58.16, std: 27.59, min: 2.02, max: 96.37\n",
      "x_std , mean: 0.0, std: 1.0, min: -2.03, max: 1.38\n",
      "x_norm, mean: 0.59, std: 0.29, min: 0.0, max: 1.0\n"
     ]
    }
   ],
   "source": [
    "print_stats(x, 'x     ')\n",
    "print_stats(x_std, 'x_std ')\n",
    "print_stats(x_norm, 'x_norm')"
   ]
  },
  {
   "cell_type": "code",
   "execution_count": 7,
   "metadata": {},
   "outputs": [
    {
     "data": {
      "image/png": "[encoded data removed]",
      "text/plain": [
       "<matplotlib.figure.Figure at 0x117784240>"
      ]
     },
     "metadata": {},
     "output_type": "display_data"
    }
   ],
   "source": [
    "sns.distplot(x, bins=20, rug=True);"
   ]
  },
  {
   "cell_type": "code",
   "execution_count": 8,
   "metadata": {},
   "outputs": [
    {
     "data": {
      "image/png": "[encoded data removed]",
      "text/plain": [
       "<matplotlib.figure.Figure at 0x1176f4fd0>"
      ]
     },
     "metadata": {},
     "output_type": "display_data"
    }
   ],
   "source": [
    "sns.distplot(x_std, bins=20, rug=True);"
   ]
  },
  {
   "cell_type": "code",
   "execution_count": 9,
   "metadata": {},
   "outputs": [
    {
     "data": {
      "image/png": "[encoded data removed]",
      "text/plain": [
       "<matplotlib.figure.Figure at 0x117b1c4a8>"
      ]
     },
     "metadata": {},
     "output_type": "display_data"
    }
   ],
   "source": [
    "sns.distplot(x_norm, bins=20, rug=True);"
   ]
  },
  {
   "cell_type": "code",
   "execution_count": null,
   "metadata": {
    "collapsed": true
   },
   "outputs": [],
   "source": []
  }
 ],
 "metadata": {
  "kernelspec": {
   "display_name": "Python 3",
   "language": "python",
   "name": "python3"
  },
  "language_info": {
   "codemirror_mode": {
    "name": "ipython",
    "version": 3
   },
   "file_extension": ".py",
   "mimetype": "text/x-python",
   "name": "python",
   "nbconvert_exporter": "python",
   "pygments_lexer": "ipython3",
   "version": "3.6.0"
  }
 },
 "nbformat": 4,
 "nbformat_minor": 2
}
